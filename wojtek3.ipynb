{
 "cells": [
  {
   "cell_type": "code",
   "execution_count": 1,
   "metadata": {},
   "outputs": [],
   "source": [
    "def my_function():\n",
    "    print(\"Hello World\")\n",
    "\n",
    "# Defining our variable\n",
    "name = \"Nicholas\"\n",
    "\n",
    "# Defining a class\n",
    "class Student:\n",
    "    def __init__(self, name, course):\n",
    "        self.course = course\n",
    "        self.name = name\n",
    "\n",
    "    def get_student_details(self):\n",
    "        print(\"Your name is \" + self.name + \".\")\n",
    "        print(\"You are studying \" + self.course)\n"
   ]
  }
 ],
 "metadata": {
  "kernelspec": {
   "display_name": "Python 3",
   "language": "python",
   "name": "python3"
  },
  "language_info": {
   "codemirror_mode": {
    "name": "ipython",
    "version": 3
   },
   "file_extension": ".py",
   "mimetype": "text/x-python",
   "name": "python",
   "nbconvert_exporter": "python",
   "pygments_lexer": "ipython3",
   "version": "3.7.4"
  }
 },
 "nbformat": 4,
 "nbformat_minor": 2
}
