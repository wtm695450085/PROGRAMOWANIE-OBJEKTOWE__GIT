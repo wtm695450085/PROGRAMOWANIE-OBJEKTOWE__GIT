{
 "cells": [
  {
   "cell_type": "markdown",
   "metadata": {},
   "source": [
    "# krok 1: Pierwsze sensowne funkcje obiektowe"
   ]
  },
  {
   "cell_type": "markdown",
   "metadata": {},
   "source": [
    "<span style=\"font-size: 150%;color:#073763;background:#cfe2f3\"> Pierwsza funkcja"
   ]
  },
  {
   "cell_type": "code",
   "execution_count": 1,
   "metadata": {},
   "outputs": [],
   "source": [
    "class Działka:\n",
    "    \n",
    "    # instance attributes\n",
    "    def __init__(self, name, sze, dł):\n",
    "        self.name = name\n",
    "        self.sze = sze\n",
    "        self.dł = dł\n",
    "    \n",
    "    # instance method\n",
    "    def pole(self):\n",
    "        P = self.sze*self.dł\n",
    "        return \"Działka: {} jej pole to {} razy {}. Pole jest równe {}\".format(self.name, self.sze,self.dł, P)\n",
    "\n",
    "    def obwód(self):\n",
    "        O = 2*self.sze+ 2*self.dł\n",
    "        return \"Działka: {}, obwód to {}\".format(self.name,O)"
   ]
  },
  {
   "cell_type": "code",
   "execution_count": 2,
   "metadata": {},
   "outputs": [
    {
     "name": "stdout",
     "output_type": "stream",
     "text": [
      "Działka: Owczarnia jej pole to 80 razy 40. Pole jest równe 3200\n",
      "Działka: Owczarnia, obwód to 240\n"
     ]
    }
   ],
   "source": [
    "OW = Działka(\"Owczarnia\",80,40)\n",
    "DK = Działka(\"Dołkowice\",50,70) \n",
    "\n",
    "print(OW.pole())\n",
    "print(OW.obwód())"
   ]
  },
  {
   "cell_type": "code",
   "execution_count": 3,
   "metadata": {},
   "outputs": [
    {
     "name": "stdout",
     "output_type": "stream",
     "text": [
      "Działka: Dołkowice jej pole to 50 razy 70. Pole jest równe 3500\n",
      "Działka: Dołkowice, obwód to 240\n"
     ]
    }
   ],
   "source": [
    "print(DK.pole())\n",
    "print(DK.obwód())"
   ]
  },
  {
   "cell_type": "markdown",
   "metadata": {},
   "source": [
    "<span style=\"font-size: 150%;color:#073763;background:#cfe2f3\"> Druga funkcja - POŁĄCZENIE WSZYSTKICH FUNKCJI"
   ]
  },
  {
   "cell_type": "code",
   "execution_count": 4,
   "metadata": {},
   "outputs": [],
   "source": [
    "class Działka:\n",
    "    \n",
    "    # instance attributes\n",
    "    def __init__(self, name, sze, dł):\n",
    "        self.name = name\n",
    "        self.sze = sze\n",
    "        self.dł = dł\n",
    "    \n",
    "    # instance method\n",
    "    def pole(self):\n",
    "        P = self.sze*self.dł\n",
    "        return P\n",
    "\n",
    "    def obwód(self):\n",
    "        O = (2*self.sze) + (2*self.dł)\n",
    "        return O\n",
    "   \n",
    "    def nazwa(self):\n",
    "        N = self.name\n",
    "        return N\n",
    "    "
   ]
  },
  {
   "cell_type": "code",
   "execution_count": 5,
   "metadata": {},
   "outputs": [],
   "source": [
    "OW = Działka(\"Owczarnia\",20,40)\n",
    "DK = Działka(\"Dołkowice\",25,50) \n",
    "PR = Działka(\"Pryki Wielkie\",22,75) \n",
    "KO = Działka(\"Korniki\",38,35) "
   ]
  },
  {
   "cell_type": "code",
   "execution_count": 6,
   "metadata": {},
   "outputs": [
    {
     "name": "stdout",
     "output_type": "stream",
     "text": [
      "+-------+-----------+-----------+---------------+---------+\n",
      "|       | Owczarnia | Dołkowice | Pryki Wielkie | Korniki |\n",
      "+-------+-----------+-----------+---------------+---------+\n",
      "|  Pole |    800    |    1250   |      1650     |   1330  |\n",
      "| Obwód |    120    |    150    |      194      |   146   |\n",
      "+-------+-----------+-----------+---------------+---------+\n"
     ]
    }
   ],
   "source": [
    "from prettytable import PrettyTable\n",
    "t = PrettyTable([\"\", OW.nazwa(),DK.nazwa(),PR.nazwa(),KO.nazwa()])\n",
    "t.add_row(['Pole', OW.pole(), DK.pole(),  PR.pole(),  KO.pole()])\n",
    "t.add_row(['Obwód', OW.obwód(), DK.obwód(),  PR.obwód(), KO.obwód()])\n",
    "print(t)"
   ]
  },
  {
   "cell_type": "markdown",
   "metadata": {},
   "source": [
    "<span style=\"font-size: 150%;color:#073763;background:#cfe2f3\"> Dziedziczenie samych zmiennych 1"
   ]
  },
  {
   "cell_type": "code",
   "execution_count": 7,
   "metadata": {},
   "outputs": [],
   "source": [
    "## Klasa nadrzędna\n",
    "class Robot:\n",
    "    \n",
    "    def __init__(self, FF,GG):\n",
    "        self.FF = FF\n",
    "        self.GG = GG\n",
    "        \n",
    "## klasa podrzędna\n",
    "class Królik(Robot):\n",
    "\n",
    "    def Podz_dwa(self):\n",
    "        FT = self.FF/2\n",
    "        return \"Podzielić {} na dwa!: {}\".format(self.FF, FT)\n",
    " \n",
    "    def razy_dwa(self):\n",
    "        H = self.GG*2\n",
    "        return \"{} Razy dwa!: {}\".format(self.GG, H)"
   ]
  },
  {
   "cell_type": "code",
   "execution_count": 8,
   "metadata": {},
   "outputs": [
    {
     "data": {
      "text/plain": [
       "'Podzielić 28 na dwa!: 14.0'"
      ]
     },
     "execution_count": 8,
     "metadata": {},
     "output_type": "execute_result"
    }
   ],
   "source": [
    "y = Królik(28,45)\n",
    "\n",
    "y.Podz_dwa()\n",
    "#y.say_No()"
   ]
  },
  {
   "cell_type": "code",
   "execution_count": 9,
   "metadata": {},
   "outputs": [
    {
     "data": {
      "text/plain": [
       "'45 Razy dwa!: 90'"
      ]
     },
     "execution_count": 9,
     "metadata": {},
     "output_type": "execute_result"
    }
   ],
   "source": [
    "y.razy_dwa()"
   ]
  },
  {
   "cell_type": "markdown",
   "metadata": {},
   "source": [
    "<span style=\"font-size: 150%;color:#073763;background:#cfe2f3\"> Dziedziczenie samych zmiennych 2"
   ]
  },
  {
   "cell_type": "code",
   "execution_count": 10,
   "metadata": {},
   "outputs": [],
   "source": [
    "class Działka:\n",
    "    \n",
    "    # instance attributes\n",
    "    def __init__(self, name, sze, dł, ce):\n",
    "        self.name = name\n",
    "        self.sze = sze\n",
    "        self.dł = dł\n",
    "        self.ce = ce\n",
    "    \n",
    "    # instance method\n",
    "    def pole(self):\n",
    "        P = self.sze*self.dł\n",
    "        return P\n",
    "\n",
    "    def obwód(self):\n",
    "        O = 2*self.sze+ 2*self.dł\n",
    "        return \"Obwód działki!: {}\".format(O)\n",
    "   \n",
    "    def nazwa(self):\n",
    "        N = self.name\n",
    "        return N\n",
    "    \n",
    "class koszt(Działka):\n",
    "    \n",
    "     def ile(self):\n",
    "        # print(\"Koszt działki!\") \n",
    "        KF = (self.sze*self.dł) * self.ce\n",
    "        return \"Koszt działki!: {}\" .format(KF)  "
   ]
  },
  {
   "cell_type": "code",
   "execution_count": 11,
   "metadata": {},
   "outputs": [],
   "source": [
    "x = koszt(\"owca\",15,24,220) "
   ]
  },
  {
   "cell_type": "code",
   "execution_count": 12,
   "metadata": {},
   "outputs": [
    {
     "data": {
      "text/plain": [
       "'Koszt działki!: 79200'"
      ]
     },
     "execution_count": 12,
     "metadata": {},
     "output_type": "execute_result"
    }
   ],
   "source": [
    "x.ile()"
   ]
  },
  {
   "cell_type": "code",
   "execution_count": 13,
   "metadata": {},
   "outputs": [
    {
     "data": {
      "text/plain": [
       "'Obwód działki!: 78'"
      ]
     },
     "execution_count": 13,
     "metadata": {},
     "output_type": "execute_result"
    }
   ],
   "source": [
    "x.obwód()"
   ]
  },
  {
   "cell_type": "markdown",
   "metadata": {},
   "source": [
    "<span style=\"font-size: 150%;color:#073763;background:#cfe2f3\"> Dziedziczenie zmiennych + dodawanie nowych"
   ]
  },
  {
   "cell_type": "code",
   "execution_count": 28,
   "metadata": {},
   "outputs": [],
   "source": [
    "# base class\n",
    "class Vehicle():\n",
    "    \n",
    "    def __init__(self, pojemność):\n",
    "        self.pojemność = pojemność\n",
    "        \n",
    "    def description(self):\n",
    "        print('POJEMNOŚĆ:')\n",
    "        PO = (self.pojemność * 1000)\n",
    "        return \"POJEMNOŚĆ: {}\".format(PO)\n",
    "\n",
    "# subclass\n",
    "class Car(Vehicle):\n",
    "    \n",
    "    def __init__(self, pojemność, moc):\n",
    "        super().__init__(pojemność)    # to co było w klasie nadrzędnej \n",
    "        self.moc = moc                 # nowa zmienna\n",
    "    \n",
    "    \n",
    "    def description2(self):\n",
    "        print(\"Moc:\",self.moc * 15)\n",
    "        print(\"POJEMNOŚĆ:\",self.pojemność * 1000)"
   ]
  },
  {
   "cell_type": "code",
   "execution_count": 29,
   "metadata": {},
   "outputs": [
    {
     "name": "stdout",
     "output_type": "stream",
     "text": [
      "POJEMNOŚĆ:\n",
      "Moc: 30\n",
      "POJEMNOŚĆ: 305000\n"
     ]
    }
   ],
   "source": [
    "# create an object from each class\n",
    "v = Vehicle(2)\n",
    "c = Car(305,2)\n",
    "\n",
    "v.description()\n",
    "# Prints I'm a Red Vehicle\n",
    "c.description2()\n",
    "# Prints I'm a Black SUV"
   ]
  },
  {
   "cell_type": "code",
   "execution_count": 31,
   "metadata": {},
   "outputs": [],
   "source": [
    "class Działka:\n",
    "    \n",
    "    # instance attributes\n",
    "    def __init__(self, name, sze, dł):\n",
    "        self.name = name\n",
    "        self.sze = sze\n",
    "        self.dł = dł\n",
    "    \n",
    "    # instance method\n",
    "    def pole(self):\n",
    "        P = self.sze*self.dł\n",
    "        return P\n",
    "\n",
    "    def obwód(self):\n",
    "        O = 2*self.sze+ 2*self.dł\n",
    "        return O\n",
    "   \n",
    "    def nazwa(self):\n",
    "        N = self.name\n",
    "        return N\n",
    "    \n",
    "class koszt(Działka):\n",
    "    \n",
    "    def __init__(self, sze, dł, ko): \n",
    "        super().__init__(id, sze, dł)   #<== wpisujemy te zmienne, które są potrzebna w podklasie\n",
    "        self.ko = ko                    # nowa zmienna\n",
    "        \n",
    "    def zapłać(self):\n",
    "        print(\"Koszt działki!\") \n",
    "        KF = self.dł * self.sze * self.ko\n",
    "        return KF   "
   ]
  },
  {
   "cell_type": "code",
   "execution_count": 32,
   "metadata": {},
   "outputs": [],
   "source": [
    "c = koszt(3, 2,10)"
   ]
  },
  {
   "cell_type": "code",
   "execution_count": 33,
   "metadata": {},
   "outputs": [
    {
     "name": "stdout",
     "output_type": "stream",
     "text": [
      "Koszt działki!\n"
     ]
    },
    {
     "data": {
      "text/plain": [
       "60"
      ]
     },
     "execution_count": 33,
     "metadata": {},
     "output_type": "execute_result"
    }
   ],
   "source": [
    "c.zapłać()"
   ]
  },
  {
   "cell_type": "code",
   "execution_count": 34,
   "metadata": {},
   "outputs": [],
   "source": [
    "class colors:\n",
    "\n",
    "      #def __init__(self):\n",
    "        #self.text = text\n",
    "   \n",
    "    \n",
    "      def green(self,text):\n",
    "            print('\\033[32m', text, '\\033[0m', sep='') \n",
    "            "
   ]
  },
  {
   "cell_type": "code",
   "execution_count": 35,
   "metadata": {},
   "outputs": [
    {
     "name": "stdout",
     "output_type": "stream",
     "text": [
      "\u001b[32mWojtek\u001b[0m\n"
     ]
    }
   ],
   "source": [
    "CO=colors()\n",
    "CO.green('Wojtek')"
   ]
  },
  {
   "cell_type": "markdown",
   "metadata": {},
   "source": [
    "https://stackoverflow.com/questions/11421659/passing-variables-creating-instances-self-the-mechanics-and-usage-of-classes"
   ]
  },
  {
   "cell_type": "markdown",
   "metadata": {},
   "source": [
    "Praca z klasami nazywana jest programowaniem obiektowym."
   ]
  },
  {
   "cell_type": "code",
   "execution_count": 37,
   "metadata": {},
   "outputs": [],
   "source": [
    "class bankaccount():\n",
    "    def __init__(self, name, money):\n",
    "        self.name = name                   ## Imie klienta\n",
    "        self.money = money                 ## ilość pieniędzy na koncie klienta  \n",
    "\n",
    "    def earn_money(self, amount):\n",
    "        self.money += amount       # wpłaty na konto \n",
    "\n",
    "    def withdraw_money(self, amount):\n",
    "        self.money -= amount       # wypłaty z konta \n",
    "\n",
    "    def show_balance(self):\n",
    "        print(self.money)          # wydruk stanu konta   "
   ]
  },
  {
   "cell_type": "code",
   "execution_count": 38,
   "metadata": {},
   "outputs": [],
   "source": [
    "Wojciech_Moszczyński = bankaccount(\"WojMos\", 1000)"
   ]
  },
  {
   "cell_type": "code",
   "execution_count": 39,
   "metadata": {},
   "outputs": [
    {
     "name": "stdout",
     "output_type": "stream",
     "text": [
      "1100\n"
     ]
    }
   ],
   "source": [
    "Wojciech_Moszczyński.earn_money(200)      # ile przybyło na konto\n",
    "Wojciech_Moszczyński.withdraw_money(100)  # ile ubyło z konta\n",
    "Wojciech_Moszczyński.show_balance()       # wydruk stanu konta"
   ]
  },
  {
   "cell_type": "markdown",
   "metadata": {},
   "source": [
    "## Programowanie obiektowe"
   ]
  },
  {
   "cell_type": "code",
   "execution_count": 52,
   "metadata": {},
   "outputs": [],
   "source": [
    "class POLE():\n",
    "    \n",
    "    def __init__(self, name, pole):\n",
    "        self.name = name                   ## Imie klienta\n",
    "        self.pole = pole                 ## ilość pieniędzy na koncie klienta  \n",
    "\n",
    "    def dod_pole(self, PP):\n",
    "        self.pole += PP       # wpłaty na konto \n",
    "\n",
    "    def sprz_pole(self, PP):\n",
    "        self.pole -= PP       # wypłaty z konta \n",
    "\n",
    "    def show_pole(self):\n",
    "        print(self.pole)          # wydruk stanu konta   "
   ]
  },
  {
   "cell_type": "code",
   "execution_count": 53,
   "metadata": {},
   "outputs": [],
   "source": [
    "Wojciech_Moszczyński = POLE(\"WojMos\", 5500)   # mam działkę 5500 metrów"
   ]
  },
  {
   "cell_type": "code",
   "execution_count": 55,
   "metadata": {},
   "outputs": [
    {
     "name": "stdout",
     "output_type": "stream",
     "text": [
      "3800\n"
     ]
    }
   ],
   "source": [
    "Wojciech_Moszczyński.dod_pole(200)      # ile przybyło na konto\n",
    "Wojciech_Moszczyński.sprz_pole(2000)  # ile ubyło z konta\n",
    "Wojciech_Moszczyński.show_pole()       # wydruk stanu konta"
   ]
  },
  {
   "cell_type": "code",
   "execution_count": null,
   "metadata": {},
   "outputs": [],
   "source": []
  },
  {
   "cell_type": "code",
   "execution_count": null,
   "metadata": {},
   "outputs": [],
   "source": []
  },
  {
   "cell_type": "code",
   "execution_count": null,
   "metadata": {},
   "outputs": [],
   "source": []
  },
  {
   "cell_type": "code",
   "execution_count": null,
   "metadata": {},
   "outputs": [],
   "source": []
  },
  {
   "cell_type": "code",
   "execution_count": null,
   "metadata": {},
   "outputs": [],
   "source": []
  },
  {
   "cell_type": "code",
   "execution_count": null,
   "metadata": {},
   "outputs": [],
   "source": []
  },
  {
   "cell_type": "code",
   "execution_count": null,
   "metadata": {},
   "outputs": [],
   "source": []
  },
  {
   "cell_type": "code",
   "execution_count": null,
   "metadata": {},
   "outputs": [],
   "source": []
  },
  {
   "cell_type": "code",
   "execution_count": null,
   "metadata": {},
   "outputs": [],
   "source": []
  },
  {
   "cell_type": "code",
   "execution_count": null,
   "metadata": {},
   "outputs": [],
   "source": []
  },
  {
   "cell_type": "code",
   "execution_count": null,
   "metadata": {},
   "outputs": [],
   "source": []
  },
  {
   "cell_type": "code",
   "execution_count": null,
   "metadata": {},
   "outputs": [],
   "source": []
  }
 ],
 "metadata": {
  "kernelspec": {
   "display_name": "Python 3",
   "language": "python",
   "name": "python3"
  },
  "language_info": {
   "codemirror_mode": {
    "name": "ipython",
    "version": 3
   },
   "file_extension": ".py",
   "mimetype": "text/x-python",
   "name": "python",
   "nbconvert_exporter": "python",
   "pygments_lexer": "ipython3",
   "version": "3.7.4"
  }
 },
 "nbformat": 4,
 "nbformat_minor": 2
}
