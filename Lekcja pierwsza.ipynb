{
 "cells": [
  {
   "cell_type": "markdown",
   "metadata": {},
   "source": [
    "# Lekcja pierwsza\n",
    "\n",
    "    www.python-course.eu/python3_object_oriented_programming.php"
   ]
  },
  {
   "cell_type": "code",
   "execution_count": 1,
   "metadata": {},
   "outputs": [
    {
     "name": "stdout",
     "output_type": "stream",
     "text": [
      "True\n",
      "False\n"
     ]
    }
   ],
   "source": [
    "class  Robot : \n",
    "    pass \n",
    "\n",
    "if  __name__  ==  \"__main__\" : \n",
    "    x  =  Robot () \n",
    "    y  =  Robot () \n",
    "    y2  =  y                  ## y2 to alias dla y\n",
    "    print ( y  ==  y2 ) \n",
    "    print ( y  ==  x )"
   ]
  },
  {
   "cell_type": "markdown",
   "metadata": {},
   "source": [
    "## OKREŚLANIE ATRYBUTÓW\n",
    "\n",
    "        Zwykle „atrybut” jest używany do określenia określonej zdolności lub cechy, którą coś lub ktoś posiada, na przykład czarne włosy, brak włosów, szybka percepcja lub „jej szybkość przyswajania nowych zadań”."
   ]
  },
  {
   "cell_type": "markdown",
   "metadata": {},
   "source": [
    "<span style=\"font-size: 100%;background:yellow\">OKREŚLENIE ATRYBUTÓW DLA INSTANCJI\n",
    "\n",
    "\n",
    "### Zaimplementujmy więc atrybuty: \"name\", \"oznaczenie typu\", \"rok budowy\"\n",
    "Robimy to, dołączając do nazwy instancji dowolną nazwę, oddzieloną kropką „.”. "
   ]
  },
  {
   "cell_type": "code",
   "execution_count": 2,
   "metadata": {},
   "outputs": [
    {
     "name": "stdout",
     "output_type": "stream",
     "text": [
      "Marwin\n"
     ]
    }
   ],
   "source": [
    "class  Foka: # określamy nazwę klasy jako \"Foka\"\n",
    "    pass \n",
    "\n",
    "x = Foka() # tworzymy instancję x w klasie \"Foka\"(musi być tu nazwa klasy)\n",
    "y = Foka() # tworzymy instancję y w klasie \"Foka\"\n",
    " \n",
    "x.name  =  \"Marwin\"              # tworzynt atrybut \"name\" dla instancji x i odrazu nazywamy \"Marwin\"\n",
    "x.build_year  =  \"1979\"          # tworzynt atrybut \"build_year\" dla instancji x i odrazu wpisujemy \"1979\"\n",
    " \n",
    "y.name  =  \"Kaliban\" \n",
    "y.rok_budowy  =  \"1993\" \n",
    " \n",
    "print(x.name )"
   ]
  },
  {
   "cell_type": "code",
   "execution_count": 3,
   "metadata": {},
   "outputs": [
    {
     "name": "stdout",
     "output_type": "stream",
     "text": [
      "1993\n"
     ]
    }
   ],
   "source": [
    "print(y.rok_budowy)"
   ]
  },
  {
   "cell_type": "markdown",
   "metadata": {},
   "source": [
    "<span style=\"font-size: 200%;background:yellow\">\\__dict\\__</span>\n",
    "\n",
    "Instancje posiadają słowniki \\__dict\\__, których używają do przechowywania swoich atrybutów i odpowiadających im wartości:"
   ]
  },
  {
   "cell_type": "code",
   "execution_count": 4,
   "metadata": {},
   "outputs": [
    {
     "data": {
      "text/plain": [
       "{'name': 'Marwin', 'build_year': '1979'}"
      ]
     },
     "execution_count": 4,
     "metadata": {},
     "output_type": "execute_result"
    }
   ],
   "source": [
    "x.__dict__"
   ]
  },
  {
   "cell_type": "code",
   "execution_count": 5,
   "metadata": {},
   "outputs": [
    {
     "data": {
      "text/plain": [
       "{'name': 'Kaliban', 'rok_budowy': '1993'}"
      ]
     },
     "execution_count": 5,
     "metadata": {},
     "output_type": "execute_result"
    }
   ],
   "source": [
    "y.__dict__"
   ]
  },
  {
   "cell_type": "markdown",
   "metadata": {},
   "source": [
    "<span style=\"font-size: 100%;background:yellow\">OKREŚLENIE ATRYBUTÓW DLA KLASY"
   ]
  },
  {
   "cell_type": "code",
   "execution_count": 6,
   "metadata": {},
   "outputs": [
    {
     "data": {
      "text/plain": [
       "'Kuka'"
      ]
     },
     "execution_count": 6,
     "metadata": {},
     "output_type": "execute_result"
    }
   ],
   "source": [
    "class Pies(object):    # Treść klasy składa się z wciętego bloku instrukcji.\n",
    "    pass                # W naszym przypadku pojedyncza instrukcja, instrukcja „pass”.\n",
    "                        \n",
    "x = Pies()             # x jest instancją klasy \"Pies\"\n",
    "Pies.marka = \"Kuka\"    #  nadaje atrybut \"marka\" na cała klasę \"Pies\"\n",
    "x.marka                # jaka jest marka instancji x? \"Kuka\""
   ]
  },
  {
   "cell_type": "markdown",
   "metadata": {},
   "source": [
    "Atrybut przypisany całej klasie jest nadrzędny nad nadawaniem atrybutu instancją klasy \"Pies\""
   ]
  },
  {
   "cell_type": "code",
   "execution_count": 7,
   "metadata": {},
   "outputs": [
    {
     "data": {
      "text/plain": [
       "'Kuka'"
      ]
     },
     "execution_count": 7,
     "metadata": {},
     "output_type": "execute_result"
    }
   ],
   "source": [
    "x.marka = \"Fotel\"     # przyporzadkowuje atrybutdo instancji x \n",
    "Pies.marka             # jaka jest marka robota x? \"Kuka\""
   ]
  },
  {
   "cell_type": "code",
   "execution_count": 8,
   "metadata": {},
   "outputs": [
    {
     "data": {
      "text/plain": [
       "'Kuka'"
      ]
     },
     "execution_count": 8,
     "metadata": {},
     "output_type": "execute_result"
    }
   ],
   "source": [
    "y = Pies()             # Dodaję do atrybutu Robot() do instancji y należącej do klasy Robot     \n",
    "y.marka                 # jaka jest marka robota x? \"Kuka\""
   ]
  },
  {
   "cell_type": "code",
   "execution_count": 9,
   "metadata": {},
   "outputs": [],
   "source": [
    "Pies.marka = \"Thales\"    # przyporządkowuje atrybutu \"marka\" nowej nazwy: \"Thales\""
   ]
  },
  {
   "cell_type": "code",
   "execution_count": 10,
   "metadata": {},
   "outputs": [
    {
     "data": {
      "text/plain": [
       "'Thales'"
      ]
     },
     "execution_count": 10,
     "metadata": {},
     "output_type": "execute_result"
    }
   ],
   "source": [
    "y.marka                   # jaka jest marka robota y? \"Thales\""
   ]
  },
  {
   "cell_type": "code",
   "execution_count": 11,
   "metadata": {},
   "outputs": [
    {
     "data": {
      "text/plain": [
       "'Fotel'"
      ]
     },
     "execution_count": 11,
     "metadata": {},
     "output_type": "execute_result"
    }
   ],
   "source": [
    "x.marka        # Atrybut dla instancji x klasy: \"Pies\" "
   ]
  },
  {
   "cell_type": "code",
   "execution_count": 12,
   "metadata": {},
   "outputs": [
    {
     "data": {
      "text/plain": [
       "{'marka': 'Fotel'}"
      ]
     },
     "execution_count": 12,
     "metadata": {},
     "output_type": "execute_result"
    }
   ],
   "source": [
    "x.__dict__             # Instancja posiadają słowniki __dict__, których używają do przechowywania swoich atrybutów "
   ]
  },
  {
   "cell_type": "code",
   "execution_count": 13,
   "metadata": {},
   "outputs": [
    {
     "data": {
      "text/plain": [
       "{}"
      ]
     },
     "execution_count": 13,
     "metadata": {},
     "output_type": "execute_result"
    }
   ],
   "source": [
    "y.__dict__    # Instancja y nie ma atrybutów    "
   ]
  },
  {
   "cell_type": "code",
   "execution_count": 14,
   "metadata": {},
   "outputs": [],
   "source": [
    "y.marka = \"Korona\"  # przyporzadkowuje atrybut do instancji y "
   ]
  },
  {
   "cell_type": "code",
   "execution_count": 15,
   "metadata": {},
   "outputs": [
    {
     "data": {
      "text/plain": [
       "{'marka': 'Korona'}"
      ]
     },
     "execution_count": 15,
     "metadata": {},
     "output_type": "execute_result"
    }
   ],
   "source": [
    "y.__dict__"
   ]
  },
  {
   "cell_type": "code",
   "execution_count": 16,
   "metadata": {},
   "outputs": [
    {
     "data": {
      "text/plain": [
       "mappingproxy({'__module__': '__main__',\n",
       "              '__dict__': <attribute '__dict__' of 'Pies' objects>,\n",
       "              '__weakref__': <attribute '__weakref__' of 'Pies' objects>,\n",
       "              '__doc__': None,\n",
       "              'marka': 'Thales'})"
      ]
     },
     "execution_count": 16,
     "metadata": {},
     "output_type": "execute_result"
    }
   ],
   "source": [
    "Pies.__dict__     # __dict__ dla całej klasy \"Pies\""
   ]
  },
  {
   "cell_type": "code",
   "execution_count": 17,
   "metadata": {},
   "outputs": [
    {
     "data": {
      "text/plain": [
       "'Fotel'"
      ]
     },
     "execution_count": 17,
     "metadata": {},
     "output_type": "execute_result"
    }
   ],
   "source": [
    "x.marka"
   ]
  },
  {
   "cell_type": "code",
   "execution_count": 18,
   "metadata": {},
   "outputs": [
    {
     "data": {
      "text/plain": [
       "'Korona'"
      ]
     },
     "execution_count": 18,
     "metadata": {},
     "output_type": "execute_result"
    }
   ],
   "source": [
    "y.marka"
   ]
  },
  {
   "cell_type": "code",
   "execution_count": 19,
   "metadata": {},
   "outputs": [
    {
     "data": {
      "text/plain": [
       "'Thales'"
      ]
     },
     "execution_count": 19,
     "metadata": {},
     "output_type": "execute_result"
    }
   ],
   "source": [
    "Pies.marka"
   ]
  },
  {
   "cell_type": "markdown",
   "metadata": {},
   "source": [
    "## OKREŚLANIE METODY"
   ]
  },
  {
   "cell_type": "markdown",
   "metadata": {},
   "source": [
    "To zwykła funkcja bez atrybutu:"
   ]
  },
  {
   "cell_type": "code",
   "execution_count": 20,
   "metadata": {},
   "outputs": [],
   "source": [
    "def Dor(obj_D):        # funkcja Dor z objektem \"obj_D\" \n",
    "    print(\"Hi, I am \" + obj_D + \"!\")"
   ]
  },
  {
   "cell_type": "code",
   "execution_count": 21,
   "metadata": {},
   "outputs": [
    {
     "name": "stdout",
     "output_type": "stream",
     "text": [
      "Hi, I am WOJTEK!\n"
     ]
    }
   ],
   "source": [
    "Dor('WOJTEK') # teraz działa bo to zwykły objekt"
   ]
  },
  {
   "cell_type": "markdown",
   "metadata": {},
   "source": [
    "Teraz funkcja z atrybutem godzi atrybuty dodaje się do obiektu po kropce"
   ]
  },
  {
   "cell_type": "code",
   "execution_count": null,
   "metadata": {},
   "outputs": [],
   "source": []
  },
  {
   "cell_type": "code",
   "execution_count": 22,
   "metadata": {},
   "outputs": [],
   "source": [
    "def Sok(Obje_A):                               # funkcja Sok z objektem \"Obje_A\" \n",
    "    print(\"Cześć, jestem \" + Obje_A.name + \"!\")     # do obiektu nadany jest atrybut \".name\""
   ]
  },
  {
   "cell_type": "code",
   "execution_count": 23,
   "metadata": {},
   "outputs": [
    {
     "name": "stdout",
     "output_type": "stream",
     "text": [
      "Cześć, jestem Łukasz!\n"
     ]
    }
   ],
   "source": [
    "class Kura:       # klasa \"Kura\"\n",
    "    pass\n",
    "    \n",
    "k = Kura()        # tworzę nową instancję k w klasie \"Kura\"\n",
    "k.name = \"Łukasz\" # tworzę atrybut dla instancji k\n",
    "Sok(k)            # uruchamiam funkcje Sok któRA odwołuje sie do atrybutu \".name\"  "
   ]
  },
  {
   "cell_type": "markdown",
   "metadata": {},
   "source": [
    "Powiążemy teraz funkcję „Sok” z atrybutem klasy „say_Sok”!"
   ]
  },
  {
   "cell_type": "code",
   "execution_count": 24,
   "metadata": {},
   "outputs": [
    {
     "name": "stdout",
     "output_type": "stream",
     "text": [
      "Hi, I am Krem!\n"
     ]
    }
   ],
   "source": [
    "def Sok(obj):\n",
    "        print(\"Hi, I am \" + obj.name + \"!\")   # funkcja z nadanym artybutem dla objektu \"obj\"\n",
    "\n",
    "class Kot:\n",
    "    say_Sok = Sok\n",
    "    \n",
    "\n",
    "fG = Kot()             # stworzenie instancji fG      \n",
    "fG.name = \"Krem\"       # stworzenie atrybutu do instancji fG\n",
    "Kot.say_Sok(fG)        # uruchomienie funkcji Sok dla instancji fG"
   ]
  },
  {
   "cell_type": "code",
   "execution_count": 25,
   "metadata": {},
   "outputs": [
    {
     "name": "stdout",
     "output_type": "stream",
     "text": [
      "Hi, I am Pixi!\n"
     ]
    }
   ],
   "source": [
    "KK = Kot()             # stworzenie instancji KK      \n",
    "KK.name = \"Pixi\"       # stworzenie atrybutu do instancji KK\n",
    "Kot.say_Sok(KK)        # uruchomienie funkcji Sok dla instancji KK"
   ]
  },
  {
   "cell_type": "markdown",
   "metadata": {},
   "source": [
    "## ROBI SIĘ INACZEJ\n",
    "\n",
    "        Zamiast definiować funkcję poza definicją klasy i wiązać ją z atrybutem klasy, definiujemy metodę bezpośrednio wewnątrz klasy.\n",
    "        "
   ]
  },
  {
   "cell_type": "markdown",
   "metadata": {},
   "source": [
    "<span style=\"font-size: 200%;background:yellow\"> self\n",
    "    \n",
    "    - ustawianie atrybutów wewnątrz klas\n",
    "    - nazwa \"self\" to nazwa zwyczajowa równie dobrze może być to \"kot\""
   ]
  },
  {
   "cell_type": "markdown",
   "metadata": {},
   "source": [
    "<span style=\"font-size: 200%;background:yellow\">Metoda \\__init\\__\n",
    "    \n",
    "    Metodę __init__ stosuje się, aby zainicjować atrybut instancji. \n",
    "    \n",
    "    __init__ wstawia się zwykle jako pierwszą metodę klasy, bezpośrednio po nagłówku klasy."
   ]
  },
  {
   "cell_type": "code",
   "execution_count": 26,
   "metadata": {},
   "outputs": [
    {
     "name": "stdout",
     "output_type": "stream",
     "text": [
      "__init__ has been executed!\n"
     ]
    }
   ],
   "source": [
    "class Abb:\n",
    "    def __init__(self):\n",
    "        print(\"__init__ has been executed!\")  # tu zamoast print wstawia się self.name = name\n",
    "\n",
    "x = Abb()"
   ]
  },
  {
   "cell_type": "markdown",
   "metadata": {},
   "source": [
    "Teraz zrobimy naszą funkcję razem z metodą \\__init\\__ "
   ]
  },
  {
   "cell_type": "code",
   "execution_count": 27,
   "metadata": {},
   "outputs": [],
   "source": [
    "class Kura:\n",
    " \n",
    "    def __init__(self, name=None):\n",
    "        self.name = name   \n",
    "        \n",
    "    def przywitaj_się(self):\n",
    "        if self.name:\n",
    "            print(\"Hi, I am \" + self.name)\n",
    "        else:\n",
    "            print(\"Hi, I am a kura co nie ma imienia!\")"
   ]
  },
  {
   "cell_type": "code",
   "execution_count": 28,
   "metadata": {},
   "outputs": [
    {
     "name": "stdout",
     "output_type": "stream",
     "text": [
      "Hi, I am a kura co nie ma imienia!\n"
     ]
    }
   ],
   "source": [
    "x = Kura()     # nie nadaliśmy instancji \"x\" imienia\n",
    "x.przywitaj_się()"
   ]
  },
  {
   "cell_type": "code",
   "execution_count": 29,
   "metadata": {},
   "outputs": [
    {
     "name": "stdout",
     "output_type": "stream",
     "text": [
      "Hi, I am Gdak\n"
     ]
    }
   ],
   "source": [
    "y = Kura(\"Gdak\")    # # nadaliśmy instancji \"y\" imię \"Gdak\"\n",
    "y.przywitaj_się()"
   ]
  },
  {
   "cell_type": "markdown",
   "metadata": {},
   "source": [
    "<span style=\"font-size: 200%;background:yellow\">Abstrakcja danych = enkapsulacja danych + ukrywanie danych"
   ]
  },
  {
   "cell_type": "code",
   "execution_count": 60,
   "metadata": {},
   "outputs": [
    {
     "name": "stdout",
     "output_type": "stream",
     "text": [
      "Jestem waga Henry\n"
     ]
    }
   ],
   "source": [
    "class Waga:\n",
    " \n",
    "    def __init__(self, name=None):     # muszą być zapisane wszystkie atrybuty\n",
    "        self.name = name               # ustawiamy pierwszy atrybut\n",
    "        \n",
    "    def Dzień_dobry(self):\n",
    "        if self.name:                               # jeżeli jest ustwony atrybut name\n",
    "            print(\"Jestem waga \" + self.name)      \n",
    "        else:\n",
    "            print(\"Hi, I am a Waga bez nazwy\")\n",
    "            \n",
    "    def set_name(self, name):    # nadaje imie atrybutowi 'name' dla każdej instancji \n",
    "        self.name = name\n",
    "        \n",
    "    def get_name(self):          # bierze imie atrybutu wskazanej instancji         \n",
    "        return self.name\n",
    "    \n",
    "x = Waga()\n",
    "x.set_name(\"Henry\")\n",
    "x.Dzień_dobry()"
   ]
  },
  {
   "cell_type": "code",
   "execution_count": 61,
   "metadata": {},
   "outputs": [
    {
     "name": "stdout",
     "output_type": "stream",
     "text": [
      "Jestem waga Hans\n"
     ]
    }
   ],
   "source": [
    "t = Waga()\n",
    "t.set_name(\"Hans\")\n",
    "t.Dzień_dobry()"
   ]
  },
  {
   "cell_type": "code",
   "execution_count": 62,
   "metadata": {},
   "outputs": [
    {
     "data": {
      "text/plain": [
       "{'name': 'Hans'}"
      ]
     },
     "execution_count": 62,
     "metadata": {},
     "output_type": "execute_result"
    }
   ],
   "source": [
    "t.__dict__"
   ]
  },
  {
   "cell_type": "code",
   "execution_count": 63,
   "metadata": {},
   "outputs": [
    {
     "name": "stdout",
     "output_type": "stream",
     "text": [
      "Hans\n"
     ]
    }
   ],
   "source": [
    "m = Waga()\n",
    "m.set_name(t.get_name())\n",
    "print(t.get_name())"
   ]
  },
  {
   "cell_type": "code",
   "execution_count": null,
   "metadata": {},
   "outputs": [],
   "source": []
  },
  {
   "cell_type": "code",
   "execution_count": 65,
   "metadata": {},
   "outputs": [
    {
     "name": "stdout",
     "output_type": "stream",
     "text": [
      "Hi, I am Henry\n",
      "I was built in 2008\n",
      "Hi, I am Marvin\n",
      "It's not known, when I was created!\n"
     ]
    }
   ],
   "source": [
    "class Młot:\n",
    "    \n",
    "    #=================================================================================\n",
    "    \n",
    "    def __init__(self,                # ZDEFINIOWANIE    \n",
    "                 name=None,                # muszą być zapisane wszystkie atrybuty, które wystąpią w definicji \n",
    "                 build_year=None):\n",
    "        self.name = name   \n",
    "        self.build_year = build_year\n",
    "        \n",
    "    #=================================================================================\n",
    "    \n",
    "    def say_hi(self):\n",
    "        \n",
    "        if self.name:\n",
    "            print(\"Hi, I am \" + self.name)\n",
    "        else:\n",
    "            print(\"Hi, I am a robot without a name\")\n",
    "  \n",
    "        if self.build_year:\n",
    "            print(\"I was built in \" + str(self.build_year))\n",
    "        else:\n",
    "            print(\"It's not known, when I was created!\")\n",
    "        \n",
    "    #=================================================================================\n",
    "        \n",
    "        \n",
    "    def set_name(self, name):\n",
    "        self.name = name\n",
    "        \n",
    "    def get_name(self):\n",
    "        return self.name    \n",
    "\n",
    "    def set_build_year(self, by):\n",
    "        self.build_year = by\n",
    "        \n",
    "    def get_build_year(self):\n",
    "        return self.build_year    \n",
    "    \n",
    "\n",
    "x = Młot(\"Henry\", 2008)      # bIERZE DWA atrybuty dla instancji x\n",
    "\n",
    "y = Młot()\n",
    "\n",
    "y.set_name(\"Marvin\")       # bIERZE jeden atrybut dla instancji y\n",
    "\n",
    "x.say_hi()\n",
    "y.say_hi()"
   ]
  },
  {
   "cell_type": "markdown",
   "metadata": {},
   "source": [
    "<span style=\"font-size: 220%;background:yellow\">Metoda <space>   \\__str\\__   oraz   \\__repr\\__"
   ]
  },
  {
   "cell_type": "code",
   "execution_count": 69,
   "metadata": {},
   "outputs": [
    {
     "name": "stdout",
     "output_type": "stream",
     "text": [
      "['Python', 'Java', 'C++', 'Perl']\n"
     ]
    }
   ],
   "source": [
    "l = [\"Python\", \"Java\", \"C++\", \"Perl\"]\n",
    "print(l)"
   ]
  },
  {
   "cell_type": "code",
   "execution_count": 72,
   "metadata": {},
   "outputs": [
    {
     "data": {
      "text/plain": [
       "\"['Python', 'Java', 'C++', 'Perl']\""
      ]
     },
     "execution_count": 72,
     "metadata": {},
     "output_type": "execute_result"
    }
   ],
   "source": [
    "repr(l)               # przerabia to na tekst"
   ]
  },
  {
   "cell_type": "code",
   "execution_count": 71,
   "metadata": {},
   "outputs": [
    {
     "data": {
      "text/plain": [
       "\"['Python', 'Java', 'C++', 'Perl']\""
      ]
     },
     "execution_count": 71,
     "metadata": {},
     "output_type": "execute_result"
    }
   ],
   "source": [
    "str(l)                 # przerabia to na tekst"
   ]
  },
  {
   "cell_type": "code",
   "execution_count": 73,
   "metadata": {},
   "outputs": [
    {
     "data": {
      "text/plain": [
       "'[3, 8, 9]'"
      ]
     },
     "execution_count": 73,
     "metadata": {},
     "output_type": "execute_result"
    }
   ],
   "source": [
    "l = [3,8,9]\n",
    "s = repr(l)\n",
    "s"
   ]
  },
  {
   "cell_type": "code",
   "execution_count": 74,
   "metadata": {},
   "outputs": [
    {
     "data": {
      "text/plain": [
       "[3, 8, 9]"
      ]
     },
     "execution_count": 74,
     "metadata": {},
     "output_type": "execute_result"
    }
   ],
   "source": [
    "eval(str(l))"
   ]
  },
  {
   "cell_type": "code",
   "execution_count": 75,
   "metadata": {},
   "outputs": [
    {
     "data": {
      "text/plain": [
       "list"
      ]
     },
     "execution_count": 75,
     "metadata": {},
     "output_type": "execute_result"
    }
   ],
   "source": [
    "type(l)"
   ]
  },
  {
   "cell_type": "code",
   "execution_count": 80,
   "metadata": {},
   "outputs": [
    {
     "name": "stdout",
     "output_type": "stream",
     "text": [
      "Robot('Marvin', 1979)\n",
      "Type of x_str:  <class 'str'>\n",
      "Robot('Marvin', 1979)\n",
      "Type of new: <class '__main__.Robot'>\n"
     ]
    }
   ],
   "source": [
    "class Robot:\n",
    "\n",
    "    def __init__(self, name, build_year):\n",
    "        self.name = name\n",
    "        self.build_year = build_year\n",
    "\n",
    "    def __repr__(self):\n",
    "        return \"Robot('\" + self.name + \"', \" +  str(self.build_year) +  \")\"\n",
    "     \n",
    "if __name__ == \"__main__\":            \n",
    "     x = Robot(\"Marvin\", 1979)        # __name__ == \"__main__\"\n",
    "                                      # Jest to standardowy kod, który chroni użytkowników \n",
    "                                      # przed przypadkowym wywołaniem skryptu, gdy nie zamierzali tego zrobić.\n",
    "    x_str = str(x)\n",
    "    print(x_str)\n",
    "    print(\"Type of x_str: \", type(x_str))\n",
    "    new = eval(x_str) \n",
    "    print(new)\n",
    "    print(\"Type of new:\", type(new))"
   ]
  },
  {
   "cell_type": "code",
   "execution_count": 85,
   "metadata": {},
   "outputs": [
    {
     "name": "stdout",
     "output_type": "stream",
     "text": [
      "Robot(\"Marvin\",1979) <class 'str'>\n",
      "Name: Marvin, Build Year: 1979\n",
      "Type of new: <class '__main__.Robot'>\n"
     ]
    }
   ],
   "source": [
    "class Robot:\n",
    "\n",
    "    def __init__(self, name, build_year):\n",
    "        self.name = name\n",
    "        self.build_year = build_year\n",
    "\n",
    "    def __repr__(self):\n",
    "        return \"Robot(\\\"\" + self.name + \"\\\",\" +  str(self.build_year) +  \")\"\n",
    "\n",
    "    def __str__(self):\n",
    "        return \"Name: \" + self.name + \", Build Year: \" +  str(self.build_year)\n",
    "     \n",
    "if __name__ == \"__main__\":\n",
    "    x = Robot(\"Marvin\", 1979)\n",
    "    \n",
    "    x_repr = repr(x)\n",
    "    print(x_repr, type(x_repr))\n",
    "    new = eval(x_repr)\n",
    "    print(new)\n",
    "    print(\"Type of new:\", type(new))"
   ]
  },
  {
   "cell_type": "code",
   "execution_count": 86,
   "metadata": {},
   "outputs": [
    {
     "name": "stdout",
     "output_type": "stream",
     "text": [
      "Robot(\"Marvin\",1979) <class 'str'>\n"
     ]
    }
   ],
   "source": [
    "FON = repr(x)\n",
    "print(FON, type(FON))"
   ]
  },
  {
   "cell_type": "code",
   "execution_count": 89,
   "metadata": {},
   "outputs": [
    {
     "data": {
      "text/plain": [
       "Robot(\"Marvin\",1979)"
      ]
     },
     "execution_count": 89,
     "metadata": {},
     "output_type": "execute_result"
    }
   ],
   "source": [
    "new = eval(FON)\n",
    "new"
   ]
  },
  {
   "cell_type": "code",
   "execution_count": 90,
   "metadata": {},
   "outputs": [
    {
     "name": "stdout",
     "output_type": "stream",
     "text": [
      "Name: Marvin, Build Year: 1979\n"
     ]
    }
   ],
   "source": [
    "print(new)"
   ]
  },
  {
   "cell_type": "code",
   "execution_count": 91,
   "metadata": {},
   "outputs": [
    {
     "name": "stdout",
     "output_type": "stream",
     "text": [
      "Type of new: <class '__main__.Robot'>\n"
     ]
    }
   ],
   "source": [
    "print(\"Type of new:\", type(new))"
   ]
  },
  {
   "cell_type": "markdown",
   "metadata": {},
   "source": [
    "<span style=\"font-size: 220%;background:yellow\">if __name__ == '__main__':\n",
    "    \n",
    "    To tylko konwencja wywoływania funkcji main w plikach Pythona.\n",
    "    \n",
    "    Jest to standardowy kod, który chroni użytkowników przed przypadkowym wywołaniem skryptu, gdy nie zamierzali tego zrobić. Oto kilka typowych problemów, gdy strażnik jest pomijany w skrypcie:\n",
    "<span style=\"font-size: 160%;background:yellow\">PRZYKŁAD    \n",
    "    \n",
    "    mamy dea moduły (to jest programowanie obiektowe czyli przez moduły)\n",
    "     - modół główny\n",
    "     - moduł poboczny\n",
    "    "
   ]
  },
  {
   "cell_type": "code",
   "execution_count": 99,
   "metadata": {},
   "outputs": [
    {
     "name": "stdout",
     "output_type": "stream",
     "text": [
      "To jest moduł poboczny\n",
      "POBOCZNY\n"
     ]
    }
   ],
   "source": [
    "# moduł_poboczny\n",
    "\n",
    "print('To jest moduł poboczny')\n",
    "\n",
    "if __name__ == '__main__':\n",
    "    print('POBOCZNY')"
   ]
  },
  {
   "cell_type": "code",
   "execution_count": 102,
   "metadata": {},
   "outputs": [
    {
     "ename": "ModuleNotFoundError",
     "evalue": "No module named 'moduł_poboczny'",
     "output_type": "error",
     "traceback": [
      "\u001b[0;31m---------------------------------------------------------------------------\u001b[0m",
      "\u001b[0;31mModuleNotFoundError\u001b[0m                       Traceback (most recent call last)",
      "\u001b[0;32m<ipython-input-102-031ee842ad8d>\u001b[0m in \u001b[0;36m<module>\u001b[0;34m\u001b[0m\n\u001b[1;32m      1\u001b[0m \u001b[0;31m# moduł_głowny\u001b[0m\u001b[0;34m\u001b[0m\u001b[0;34m\u001b[0m\u001b[0;34m\u001b[0m\u001b[0m\n\u001b[0;32m----> 2\u001b[0;31m \u001b[0;32mimport\u001b[0m \u001b[0mmoduł_poboczny\u001b[0m\u001b[0;34m\u001b[0m\u001b[0;34m\u001b[0m\u001b[0m\n\u001b[0m\u001b[1;32m      3\u001b[0m \u001b[0;34m\u001b[0m\u001b[0m\n\u001b[1;32m      4\u001b[0m \u001b[0;32mif\u001b[0m \u001b[0m__name__\u001b[0m \u001b[0;34m==\u001b[0m \u001b[0;34m'__main__'\u001b[0m\u001b[0;34m:\u001b[0m\u001b[0;34m\u001b[0m\u001b[0;34m\u001b[0m\u001b[0m\n\u001b[1;32m      5\u001b[0m     \u001b[0mprint\u001b[0m\u001b[0;34m(\u001b[0m\u001b[0;34m'Hello from main.py'\u001b[0m\u001b[0;34m)\u001b[0m\u001b[0;34m\u001b[0m\u001b[0;34m\u001b[0m\u001b[0m\n",
      "\u001b[0;31mModuleNotFoundError\u001b[0m: No module named 'moduł_poboczny'"
     ]
    }
   ],
   "source": [
    "# moduł_głowny\n",
    "import moduł_poboczny\n",
    "\n",
    "if __name__ == '__main__':\n",
    "    print('Hello from main.py')"
   ]
  },
  {
   "cell_type": "code",
   "execution_count": 104,
   "metadata": {},
   "outputs": [
    {
     "ename": "SyntaxError",
     "evalue": "invalid syntax (<ipython-input-104-983c783be2f6>, line 1)",
     "output_type": "error",
     "traceback": [
      "\u001b[0;36m  File \u001b[0;32m\"<ipython-input-104-983c783be2f6>\"\u001b[0;36m, line \u001b[0;32m1\u001b[0m\n\u001b[0;31m    python moduł_głowny\u001b[0m\n\u001b[0m                      ^\u001b[0m\n\u001b[0;31mSyntaxError\u001b[0m\u001b[0;31m:\u001b[0m invalid syntax\n"
     ]
    }
   ],
   "source": [
    "python moduł_głowny"
   ]
  },
  {
   "cell_type": "code",
   "execution_count": null,
   "metadata": {},
   "outputs": [],
   "source": []
  },
  {
   "cell_type": "code",
   "execution_count": null,
   "metadata": {},
   "outputs": [],
   "source": []
  },
  {
   "cell_type": "code",
   "execution_count": null,
   "metadata": {},
   "outputs": [],
   "source": []
  },
  {
   "cell_type": "code",
   "execution_count": null,
   "metadata": {},
   "outputs": [],
   "source": []
  },
  {
   "cell_type": "code",
   "execution_count": null,
   "metadata": {},
   "outputs": [],
   "source": []
  },
  {
   "cell_type": "markdown",
   "metadata": {},
   "source": [
    "<span style=\"font-size: 220%;background:yellow\">Atrybuty publiczne, chronione i prywatne"
   ]
  },
  {
   "cell_type": "code",
   "execution_count": 92,
   "metadata": {},
   "outputs": [],
   "source": [
    "class A():\n",
    "    \n",
    "    def __init__(self):\n",
    "        self.__priv = \"I am private\"\n",
    "        self._prot = \"I am protected\"\n",
    "        self.pub = \"I am public\""
   ]
  },
  {
   "cell_type": "code",
   "execution_count": 94,
   "metadata": {},
   "outputs": [
    {
     "name": "stdout",
     "output_type": "stream",
     "text": [
      "Hi, I am Marvin\n",
      "I was built in the year 1993!\n",
      "Hi, I am Caliban\n",
      "I was built in the year 1993!\n"
     ]
    }
   ],
   "source": [
    "class Robot:\n",
    " \n",
    "    def __init__(self, name=None, build_year=2000):\n",
    "        self.__name = name\n",
    "        self.__build_year = build_year\n",
    "        \n",
    "    def say_hi(self):\n",
    "        if self.__name:\n",
    "            print(\"Hi, I am \" + self.__name)\n",
    "        else:\n",
    "            print(\"Hi, I am a robot without a name\")\n",
    "            \n",
    "    def set_name(self, name):\n",
    "        self.__name = name\n",
    "        \n",
    "    def get_name(self):\n",
    "        return self.__name    \n",
    "\n",
    "    def set_build_year(self, by):\n",
    "        self.__build_year = by\n",
    "        \n",
    "    def get_build_year(self):\n",
    "        return self.__build_year    \n",
    "    \n",
    "    def __repr__(self):\n",
    "        return \"Robot('\" + self.__name + \"', \" +  str(self.__build_year) +  \")\"\n",
    "\n",
    "    def __str__(self):\n",
    "        return \"Name: \" + self.__name + \", Build Year: \" +  str(self.__build_year)\n",
    "\n",
    "     \n",
    "if __name__ == \"__main__\":\n",
    "    x = Robot(\"Marvin\", 1979)\n",
    "    y = Robot(\"Caliban\", 1943)\n",
    "    for n in [x, y]:\n",
    "        n.say_hi()\n",
    "        if n.get_name() == \"Caliban\":\n",
    "            n.set_build_year(1993)\n",
    "        print(\"I was built in the year \" + str(rob.get_build_year()) + \"!\")"
   ]
  },
  {
   "cell_type": "code",
   "execution_count": null,
   "metadata": {},
   "outputs": [],
   "source": []
  },
  {
   "cell_type": "code",
   "execution_count": null,
   "metadata": {},
   "outputs": [],
   "source": []
  },
  {
   "cell_type": "code",
   "execution_count": null,
   "metadata": {},
   "outputs": [],
   "source": []
  },
  {
   "cell_type": "code",
   "execution_count": null,
   "metadata": {},
   "outputs": [],
   "source": []
  },
  {
   "cell_type": "code",
   "execution_count": null,
   "metadata": {},
   "outputs": [],
   "source": []
  },
  {
   "cell_type": "code",
   "execution_count": null,
   "metadata": {},
   "outputs": [],
   "source": []
  },
  {
   "cell_type": "code",
   "execution_count": null,
   "metadata": {},
   "outputs": [],
   "source": []
  },
  {
   "cell_type": "code",
   "execution_count": null,
   "metadata": {},
   "outputs": [],
   "source": []
  },
  {
   "cell_type": "code",
   "execution_count": null,
   "metadata": {},
   "outputs": [],
   "source": []
  },
  {
   "cell_type": "code",
   "execution_count": null,
   "metadata": {},
   "outputs": [],
   "source": []
  },
  {
   "cell_type": "code",
   "execution_count": null,
   "metadata": {},
   "outputs": [],
   "source": []
  }
 ],
 "metadata": {
  "kernelspec": {
   "display_name": "Python 3",
   "language": "python",
   "name": "python3"
  },
  "language_info": {
   "codemirror_mode": {
    "name": "ipython",
    "version": 3
   },
   "file_extension": ".py",
   "mimetype": "text/x-python",
   "name": "python",
   "nbconvert_exporter": "python",
   "pygments_lexer": "ipython3",
   "version": "3.7.4"
  }
 },
 "nbformat": 4,
 "nbformat_minor": 2
}
